{
 "cells": [
  {
   "cell_type": "code",
   "execution_count": 9,
   "id": "8564dcba",
   "metadata": {},
   "outputs": [],
   "source": [
    "import pandas as pd"
   ]
  },
  {
   "cell_type": "markdown",
   "id": "7317328a",
   "metadata": {},
   "source": [
    "Import text hero by download it first and we need to install gensim 3.8.1 to avoid unwanted error."
   ]
  },
  {
   "cell_type": "code",
   "execution_count": 4,
   "id": "d745b28e",
   "metadata": {},
   "outputs": [
    {
     "name": "stdout",
     "output_type": "stream",
     "text": [
      "Collecting gensim==3.8.1\n",
      "  Downloading gensim-3.8.1.tar.gz (23.4 MB)\n",
      "\u001b[2K     \u001b[90m━━━━━━━━━━━━━━━━━━━━━━━━━━━━━━━━━━━━━━━━\u001b[0m \u001b[32m23.4/23.4 MB\u001b[0m \u001b[31m1.0 MB/s\u001b[0m eta \u001b[36m0:00:00\u001b[0m00:01\u001b[0m00:01\u001b[0mm\n",
      "\u001b[?25h  Preparing metadata (setup.py) ... \u001b[?25ldone\n",
      "\u001b[?25hRequirement already satisfied: numpy>=1.11.3 in /opt/conda/lib/python3.9/site-packages (from gensim==3.8.1) (1.21.5)\n",
      "Requirement already satisfied: scipy>=0.18.1 in /opt/conda/lib/python3.9/site-packages (from gensim==3.8.1) (1.9.1)\n",
      "Requirement already satisfied: six>=1.5.0 in /opt/conda/lib/python3.9/site-packages (from gensim==3.8.1) (1.16.0)\n",
      "Requirement already satisfied: smart_open>=1.8.1 in /opt/conda/lib/python3.9/site-packages (from gensim==3.8.1) (5.2.1)\n",
      "Building wheels for collected packages: gensim\n",
      "  Building wheel for gensim (setup.py) ... \u001b[?25ldone\n",
      "\u001b[?25h  Created wheel for gensim: filename=gensim-3.8.1-cp39-cp39-linux_x86_64.whl size=23720051 sha256=31ab483121fbcfc9349b35401d37040728051c849ce9af92b023f49b0e000095\n",
      "  Stored in directory: /root/.cache/pip/wheels/fe/77/24/b3ffc86119703277a8aeb0e6914e97e216b1bd45287e41d6ba\n",
      "Successfully built gensim\n",
      "Installing collected packages: gensim\n",
      "  Attempting uninstall: gensim\n",
      "    Found existing installation: gensim 4.1.2\n",
      "    Uninstalling gensim-4.1.2:\n",
      "      Successfully uninstalled gensim-4.1.2\n",
      "Successfully installed gensim-3.8.1\n",
      "\u001b[33mWARNING: Running pip as the 'root' user can result in broken permissions and conflicting behaviour with the system package manager. It is recommended to use a virtual environment instead: https://pip.pypa.io/warnings/venv\u001b[0m\u001b[33m\n",
      "\u001b[0mNote: you may need to restart the kernel to use updated packages.\n"
     ]
    }
   ],
   "source": [
    "pip install \"gensim==3.8.1\""
   ]
  },
  {
   "cell_type": "code",
   "execution_count": 5,
   "id": "b478e565",
   "metadata": {},
   "outputs": [
    {
     "name": "stdout",
     "output_type": "stream",
     "text": [
      "Collecting texthero\n",
      "  Using cached texthero-1.1.0-py3-none-any.whl (24 kB)\n",
      "Requirement already satisfied: tqdm>=4.3 in /opt/conda/lib/python3.9/site-packages (from texthero) (4.64.1)\n",
      "Requirement already satisfied: plotly>=4.2.0 in /opt/conda/lib/python3.9/site-packages (from texthero) (5.9.0)\n",
      "Requirement already satisfied: nltk>=3.3 in /opt/conda/lib/python3.9/site-packages (from texthero) (3.7)\n",
      "Collecting wordcloud>=1.5.0\n",
      "  Using cached wordcloud-1.8.2.2-cp39-cp39-manylinux_2_17_x86_64.manylinux2014_x86_64.whl (458 kB)\n",
      "Requirement already satisfied: scikit-learn>=0.22 in /opt/conda/lib/python3.9/site-packages (from texthero) (1.0.2)\n",
      "Requirement already satisfied: gensim<4.0,>=3.6.0 in /opt/conda/lib/python3.9/site-packages (from texthero) (3.8.1)\n",
      "Requirement already satisfied: matplotlib>=3.1.0 in /opt/conda/lib/python3.9/site-packages (from texthero) (3.5.2)\n",
      "Requirement already satisfied: unidecode>=1.1.1 in /opt/conda/lib/python3.9/site-packages (from texthero) (1.2.0)\n",
      "Requirement already satisfied: numpy>=1.17 in /opt/conda/lib/python3.9/site-packages (from texthero) (1.21.5)\n",
      "Requirement already satisfied: pandas>=1.0.2 in /opt/conda/lib/python3.9/site-packages (from texthero) (1.4.4)\n",
      "Collecting spacy<3.0.0\n",
      "  Using cached spacy-2.3.8-cp39-cp39-manylinux_2_17_x86_64.manylinux2014_x86_64.whl (4.9 MB)\n",
      "Requirement already satisfied: smart-open>=1.8.1 in /opt/conda/lib/python3.9/site-packages (from gensim<4.0,>=3.6.0->texthero) (5.2.1)\n",
      "Requirement already satisfied: scipy>=0.18.1 in /opt/conda/lib/python3.9/site-packages (from gensim<4.0,>=3.6.0->texthero) (1.9.1)\n",
      "Requirement already satisfied: six>=1.5.0 in /opt/conda/lib/python3.9/site-packages (from gensim<4.0,>=3.6.0->texthero) (1.16.0)\n",
      "Requirement already satisfied: kiwisolver>=1.0.1 in /opt/conda/lib/python3.9/site-packages (from matplotlib>=3.1.0->texthero) (1.4.2)\n",
      "Requirement already satisfied: pyparsing>=2.2.1 in /opt/conda/lib/python3.9/site-packages (from matplotlib>=3.1.0->texthero) (3.0.9)\n",
      "Requirement already satisfied: python-dateutil>=2.7 in /opt/conda/lib/python3.9/site-packages (from matplotlib>=3.1.0->texthero) (2.8.2)\n",
      "Requirement already satisfied: fonttools>=4.22.0 in /opt/conda/lib/python3.9/site-packages (from matplotlib>=3.1.0->texthero) (4.25.0)\n",
      "Requirement already satisfied: cycler>=0.10 in /opt/conda/lib/python3.9/site-packages (from matplotlib>=3.1.0->texthero) (0.11.0)\n",
      "Requirement already satisfied: pillow>=6.2.0 in /opt/conda/lib/python3.9/site-packages (from matplotlib>=3.1.0->texthero) (9.2.0)\n",
      "Requirement already satisfied: packaging>=20.0 in /opt/conda/lib/python3.9/site-packages (from matplotlib>=3.1.0->texthero) (21.3)\n",
      "Requirement already satisfied: regex>=2021.8.3 in /opt/conda/lib/python3.9/site-packages (from nltk>=3.3->texthero) (2022.7.9)\n",
      "Requirement already satisfied: click in /opt/conda/lib/python3.9/site-packages (from nltk>=3.3->texthero) (8.0.4)\n",
      "Requirement already satisfied: joblib in /opt/conda/lib/python3.9/site-packages (from nltk>=3.3->texthero) (1.1.0)\n",
      "Requirement already satisfied: pytz>=2020.1 in /opt/conda/lib/python3.9/site-packages (from pandas>=1.0.2->texthero) (2022.1)\n",
      "Requirement already satisfied: tenacity>=6.2.0 in /opt/conda/lib/python3.9/site-packages (from plotly>=4.2.0->texthero) (8.0.1)\n",
      "Requirement already satisfied: threadpoolctl>=2.0.0 in /opt/conda/lib/python3.9/site-packages (from scikit-learn>=0.22->texthero) (2.2.0)\n",
      "Requirement already satisfied: preshed<3.1.0,>=3.0.2 in /opt/conda/lib/python3.9/site-packages (from spacy<3.0.0->texthero) (3.0.8)\n",
      "Requirement already satisfied: blis<0.8.0,>=0.4.0 in /opt/conda/lib/python3.9/site-packages (from spacy<3.0.0->texthero) (0.7.9)\n",
      "Requirement already satisfied: requests<3.0.0,>=2.13.0 in /opt/conda/lib/python3.9/site-packages (from spacy<3.0.0->texthero) (2.28.1)\n",
      "Requirement already satisfied: cymem<2.1.0,>=2.0.2 in /opt/conda/lib/python3.9/site-packages (from spacy<3.0.0->texthero) (2.0.7)\n",
      "Requirement already satisfied: catalogue<1.1.0,>=0.0.7 in /opt/conda/lib/python3.9/site-packages (from spacy<3.0.0->texthero) (1.0.2)\n",
      "Requirement already satisfied: setuptools in /opt/conda/lib/python3.9/site-packages (from spacy<3.0.0->texthero) (63.4.1)\n",
      "Requirement already satisfied: srsly<1.1.0,>=1.0.2 in /opt/conda/lib/python3.9/site-packages (from spacy<3.0.0->texthero) (1.0.6)\n",
      "Requirement already satisfied: wasabi<1.1.0,>=0.4.0 in /opt/conda/lib/python3.9/site-packages (from spacy<3.0.0->texthero) (0.10.1)\n",
      "Requirement already satisfied: plac<1.2.0,>=0.9.6 in /opt/conda/lib/python3.9/site-packages (from spacy<3.0.0->texthero) (1.1.3)\n",
      "Requirement already satisfied: thinc<7.5.0,>=7.4.1 in /opt/conda/lib/python3.9/site-packages (from spacy<3.0.0->texthero) (7.4.6)\n",
      "Requirement already satisfied: murmurhash<1.1.0,>=0.28.0 in /opt/conda/lib/python3.9/site-packages (from spacy<3.0.0->texthero) (1.0.9)\n",
      "Requirement already satisfied: charset-normalizer<3,>=2 in /opt/conda/lib/python3.9/site-packages (from requests<3.0.0,>=2.13.0->spacy<3.0.0->texthero) (2.0.4)\n",
      "Requirement already satisfied: certifi>=2017.4.17 in /opt/conda/lib/python3.9/site-packages (from requests<3.0.0,>=2.13.0->spacy<3.0.0->texthero) (2022.9.14)\n",
      "Requirement already satisfied: idna<4,>=2.5 in /opt/conda/lib/python3.9/site-packages (from requests<3.0.0,>=2.13.0->spacy<3.0.0->texthero) (3.3)\n",
      "Requirement already satisfied: urllib3<1.27,>=1.21.1 in /opt/conda/lib/python3.9/site-packages (from requests<3.0.0,>=2.13.0->spacy<3.0.0->texthero) (1.26.11)\n",
      "Installing collected packages: wordcloud, spacy, texthero\n",
      "Successfully installed spacy-2.3.8 texthero-1.1.0 wordcloud-1.8.2.2\n",
      "\u001b[33mWARNING: Running pip as the 'root' user can result in broken permissions and conflicting behaviour with the system package manager. It is recommended to use a virtual environment instead: https://pip.pypa.io/warnings/venv\u001b[0m\u001b[33m\n",
      "\u001b[0mNote: you may need to restart the kernel to use updated packages.\n"
     ]
    }
   ],
   "source": [
    "pip install texthero"
   ]
  },
  {
   "cell_type": "code",
   "execution_count": 6,
   "id": "27772455",
   "metadata": {},
   "outputs": [
    {
     "name": "stderr",
     "output_type": "stream",
     "text": [
      "[nltk_data] Downloading package stopwords to /root/nltk_data...\n",
      "[nltk_data]   Unzipping corpora/stopwords.zip.\n"
     ]
    },
    {
     "name": "stdout",
     "output_type": "stream",
     "text": [
      "Collecting en_core_web_sm==2.3.1\n",
      "  Downloading https://github.com/explosion/spacy-models/releases/download/en_core_web_sm-2.3.1/en_core_web_sm-2.3.1.tar.gz (12.0 MB)\n",
      "     ━━━━━━━━━━━━━━━━━━━━━━━━━━━━━━━━━━━━━━━ 12.0/12.0 MB 790.9 kB/s eta 0:00:00\n",
      "  Preparing metadata (setup.py): started\n",
      "  Preparing metadata (setup.py): finished with status 'done'\n",
      "Requirement already satisfied: spacy<2.4.0,>=2.3.0 in /opt/conda/lib/python3.9/site-packages (from en_core_web_sm==2.3.1) (2.3.8)\n",
      "Requirement already satisfied: requests<3.0.0,>=2.13.0 in /opt/conda/lib/python3.9/site-packages (from spacy<2.4.0,>=2.3.0->en_core_web_sm==2.3.1) (2.28.1)\n",
      "Requirement already satisfied: catalogue<1.1.0,>=0.0.7 in /opt/conda/lib/python3.9/site-packages (from spacy<2.4.0,>=2.3.0->en_core_web_sm==2.3.1) (1.0.2)\n",
      "Requirement already satisfied: cymem<2.1.0,>=2.0.2 in /opt/conda/lib/python3.9/site-packages (from spacy<2.4.0,>=2.3.0->en_core_web_sm==2.3.1) (2.0.7)\n",
      "Requirement already satisfied: srsly<1.1.0,>=1.0.2 in /opt/conda/lib/python3.9/site-packages (from spacy<2.4.0,>=2.3.0->en_core_web_sm==2.3.1) (1.0.6)\n",
      "Requirement already satisfied: setuptools in /opt/conda/lib/python3.9/site-packages (from spacy<2.4.0,>=2.3.0->en_core_web_sm==2.3.1) (63.4.1)\n",
      "Requirement already satisfied: murmurhash<1.1.0,>=0.28.0 in /opt/conda/lib/python3.9/site-packages (from spacy<2.4.0,>=2.3.0->en_core_web_sm==2.3.1) (1.0.9)\n",
      "Requirement already satisfied: tqdm<5.0.0,>=4.38.0 in /opt/conda/lib/python3.9/site-packages (from spacy<2.4.0,>=2.3.0->en_core_web_sm==2.3.1) (4.64.1)\n",
      "Requirement already satisfied: thinc<7.5.0,>=7.4.1 in /opt/conda/lib/python3.9/site-packages (from spacy<2.4.0,>=2.3.0->en_core_web_sm==2.3.1) (7.4.6)\n",
      "Requirement already satisfied: blis<0.8.0,>=0.4.0 in /opt/conda/lib/python3.9/site-packages (from spacy<2.4.0,>=2.3.0->en_core_web_sm==2.3.1) (0.7.9)\n",
      "Requirement already satisfied: plac<1.2.0,>=0.9.6 in /opt/conda/lib/python3.9/site-packages (from spacy<2.4.0,>=2.3.0->en_core_web_sm==2.3.1) (1.1.3)\n",
      "Requirement already satisfied: numpy>=1.15.0 in /opt/conda/lib/python3.9/site-packages (from spacy<2.4.0,>=2.3.0->en_core_web_sm==2.3.1) (1.21.5)\n",
      "Requirement already satisfied: preshed<3.1.0,>=3.0.2 in /opt/conda/lib/python3.9/site-packages (from spacy<2.4.0,>=2.3.0->en_core_web_sm==2.3.1) (3.0.8)\n",
      "Requirement already satisfied: wasabi<1.1.0,>=0.4.0 in /opt/conda/lib/python3.9/site-packages (from spacy<2.4.0,>=2.3.0->en_core_web_sm==2.3.1) (0.10.1)\n",
      "Requirement already satisfied: certifi>=2017.4.17 in /opt/conda/lib/python3.9/site-packages (from requests<3.0.0,>=2.13.0->spacy<2.4.0,>=2.3.0->en_core_web_sm==2.3.1) (2022.9.14)\n",
      "Requirement already satisfied: urllib3<1.27,>=1.21.1 in /opt/conda/lib/python3.9/site-packages (from requests<3.0.0,>=2.13.0->spacy<2.4.0,>=2.3.0->en_core_web_sm==2.3.1) (1.26.11)\n",
      "Requirement already satisfied: idna<4,>=2.5 in /opt/conda/lib/python3.9/site-packages (from requests<3.0.0,>=2.13.0->spacy<2.4.0,>=2.3.0->en_core_web_sm==2.3.1) (3.3)\n",
      "Requirement already satisfied: charset-normalizer<3,>=2 in /opt/conda/lib/python3.9/site-packages (from requests<3.0.0,>=2.13.0->spacy<2.4.0,>=2.3.0->en_core_web_sm==2.3.1) (2.0.4)\n",
      "Building wheels for collected packages: en_core_web_sm\n",
      "  Building wheel for en_core_web_sm (setup.py): started\n",
      "  Building wheel for en_core_web_sm (setup.py): finished with status 'done'\n",
      "  Created wheel for en_core_web_sm: filename=en_core_web_sm-2.3.1-py3-none-any.whl size=12047086 sha256=ef5b464a7bd4b9bcbf37234f3624cf79c8d031b216f40d83bc890fd0aef10c36\n",
      "  Stored in directory: /root/.cache/pip/wheels/19/d6/1c/5484b95647df5d7afaf74abde458c66c1cd427e69e801fe826\n",
      "Successfully built en_core_web_sm\n",
      "Installing collected packages: en_core_web_sm\n",
      "Successfully installed en_core_web_sm-2.3.1\n",
      "\u001b[38;5;2m✔ Download and installation successful\u001b[0m\n",
      "You can now load the model via spacy.load('en_core_web_sm')\n"
     ]
    },
    {
     "name": "stderr",
     "output_type": "stream",
     "text": [
      "WARNING: Running pip as the 'root' user can result in broken permissions and conflicting behaviour with the system package manager. It is recommended to use a virtual environment instead: https://pip.pypa.io/warnings/venv\n"
     ]
    }
   ],
   "source": [
    "import texthero as hero"
   ]
  },
  {
   "cell_type": "code",
   "execution_count": 7,
   "id": "5ba595fa",
   "metadata": {},
   "outputs": [],
   "source": [
    "import numpy as np"
   ]
  },
  {
   "cell_type": "code",
   "execution_count": 12,
   "id": "afa03e48",
   "metadata": {},
   "outputs": [
    {
     "ename": "TypeError",
     "evalue": "read_csv() got an unexpected keyword argument 'index'",
     "output_type": "error",
     "traceback": [
      "\u001b[0;31m---------------------------------------------------------------------------\u001b[0m",
      "\u001b[0;31mTypeError\u001b[0m                                 Traceback (most recent call last)",
      "\u001b[0;32m/tmp/ipykernel_1218/3418810531.py\u001b[0m in \u001b[0;36m<module>\u001b[0;34m\u001b[0m\n\u001b[0;32m----> 1\u001b[0;31m \u001b[0mdataframe\u001b[0m \u001b[0;34m=\u001b[0m \u001b[0mpd\u001b[0m\u001b[0;34m.\u001b[0m\u001b[0mread_csv\u001b[0m\u001b[0;34m(\u001b[0m\u001b[0;34m'assignment_dataframe.csv'\u001b[0m\u001b[0;34m,\u001b[0m\u001b[0mindex\u001b[0m\u001b[0;34m=\u001b[0m\u001b[0;32mFalse\u001b[0m\u001b[0;34m)\u001b[0m\u001b[0;34m\u001b[0m\u001b[0;34m\u001b[0m\u001b[0m\n\u001b[0m",
      "\u001b[0;32m/opt/conda/lib/python3.9/site-packages/pandas/util/_decorators.py\u001b[0m in \u001b[0;36mwrapper\u001b[0;34m(*args, **kwargs)\u001b[0m\n\u001b[1;32m    309\u001b[0m                     \u001b[0mstacklevel\u001b[0m\u001b[0;34m=\u001b[0m\u001b[0mstacklevel\u001b[0m\u001b[0;34m,\u001b[0m\u001b[0;34m\u001b[0m\u001b[0;34m\u001b[0m\u001b[0m\n\u001b[1;32m    310\u001b[0m                 )\n\u001b[0;32m--> 311\u001b[0;31m             \u001b[0;32mreturn\u001b[0m \u001b[0mfunc\u001b[0m\u001b[0;34m(\u001b[0m\u001b[0;34m*\u001b[0m\u001b[0margs\u001b[0m\u001b[0;34m,\u001b[0m \u001b[0;34m**\u001b[0m\u001b[0mkwargs\u001b[0m\u001b[0;34m)\u001b[0m\u001b[0;34m\u001b[0m\u001b[0;34m\u001b[0m\u001b[0m\n\u001b[0m\u001b[1;32m    312\u001b[0m \u001b[0;34m\u001b[0m\u001b[0m\n\u001b[1;32m    313\u001b[0m         \u001b[0;32mreturn\u001b[0m \u001b[0mwrapper\u001b[0m\u001b[0;34m\u001b[0m\u001b[0;34m\u001b[0m\u001b[0m\n",
      "\u001b[0;31mTypeError\u001b[0m: read_csv() got an unexpected keyword argument 'index'"
     ]
    }
   ],
   "source": [
    "dataframe = pd.read_csv('assignment_dataframe.csv')"
   ]
  },
  {
   "cell_type": "code",
   "execution_count": 11,
   "id": "1e984c3c",
   "metadata": {},
   "outputs": [
    {
     "data": {
      "text/html": [
       "<div>\n",
       "<style scoped>\n",
       "    .dataframe tbody tr th:only-of-type {\n",
       "        vertical-align: middle;\n",
       "    }\n",
       "\n",
       "    .dataframe tbody tr th {\n",
       "        vertical-align: top;\n",
       "    }\n",
       "\n",
       "    .dataframe thead th {\n",
       "        text-align: right;\n",
       "    }\n",
       "</style>\n",
       "<table border=\"1\" class=\"dataframe\">\n",
       "  <thead>\n",
       "    <tr style=\"text-align: right;\">\n",
       "      <th></th>\n",
       "      <th>Unnamed: 0</th>\n",
       "      <th>TITLE</th>\n",
       "      <th>CATEGORY</th>\n",
       "    </tr>\n",
       "  </thead>\n",
       "  <tbody>\n",
       "    <tr>\n",
       "      <th>0</th>\n",
       "      <td>0</td>\n",
       "      <td>Fed official says weak data caused by weather,...</td>\n",
       "      <td>b</td>\n",
       "    </tr>\n",
       "    <tr>\n",
       "      <th>1</th>\n",
       "      <td>1</td>\n",
       "      <td>Fed's Charles Plosser sees high bar for change...</td>\n",
       "      <td>b</td>\n",
       "    </tr>\n",
       "    <tr>\n",
       "      <th>2</th>\n",
       "      <td>2</td>\n",
       "      <td>US open: Stocks fall after Fed official hints ...</td>\n",
       "      <td>b</td>\n",
       "    </tr>\n",
       "    <tr>\n",
       "      <th>3</th>\n",
       "      <td>3</td>\n",
       "      <td>Fed risks falling 'behind the curve', Charles ...</td>\n",
       "      <td>b</td>\n",
       "    </tr>\n",
       "    <tr>\n",
       "      <th>4</th>\n",
       "      <td>4</td>\n",
       "      <td>Fed's Plosser: Nasty Weather Has Curbed Job Gr...</td>\n",
       "      <td>b</td>\n",
       "    </tr>\n",
       "    <tr>\n",
       "      <th>...</th>\n",
       "      <td>...</td>\n",
       "      <td>...</td>\n",
       "      <td>...</td>\n",
       "    </tr>\n",
       "    <tr>\n",
       "      <th>422932</th>\n",
       "      <td>422932</td>\n",
       "      <td>Surgeons to remove 4-year-old's rib to rebuild...</td>\n",
       "      <td>m</td>\n",
       "    </tr>\n",
       "    <tr>\n",
       "      <th>422933</th>\n",
       "      <td>422933</td>\n",
       "      <td>Boy to have surgery on esophagus after battery...</td>\n",
       "      <td>m</td>\n",
       "    </tr>\n",
       "    <tr>\n",
       "      <th>422934</th>\n",
       "      <td>422934</td>\n",
       "      <td>Child who swallowed battery to have reconstruc...</td>\n",
       "      <td>m</td>\n",
       "    </tr>\n",
       "    <tr>\n",
       "      <th>422935</th>\n",
       "      <td>422935</td>\n",
       "      <td>Phoenix boy undergoes surgery to repair throat...</td>\n",
       "      <td>m</td>\n",
       "    </tr>\n",
       "    <tr>\n",
       "      <th>422936</th>\n",
       "      <td>422936</td>\n",
       "      <td>Phoenix boy undergoes surgery to repair throat...</td>\n",
       "      <td>m</td>\n",
       "    </tr>\n",
       "  </tbody>\n",
       "</table>\n",
       "<p>422937 rows × 3 columns</p>\n",
       "</div>"
      ],
      "text/plain": [
       "        Unnamed: 0                                              TITLE CATEGORY\n",
       "0                0  Fed official says weak data caused by weather,...        b\n",
       "1                1  Fed's Charles Plosser sees high bar for change...        b\n",
       "2                2  US open: Stocks fall after Fed official hints ...        b\n",
       "3                3  Fed risks falling 'behind the curve', Charles ...        b\n",
       "4                4  Fed's Plosser: Nasty Weather Has Curbed Job Gr...        b\n",
       "...            ...                                                ...      ...\n",
       "422932      422932  Surgeons to remove 4-year-old's rib to rebuild...        m\n",
       "422933      422933  Boy to have surgery on esophagus after battery...        m\n",
       "422934      422934  Child who swallowed battery to have reconstruc...        m\n",
       "422935      422935  Phoenix boy undergoes surgery to repair throat...        m\n",
       "422936      422936  Phoenix boy undergoes surgery to repair throat...        m\n",
       "\n",
       "[422937 rows x 3 columns]"
      ]
     },
     "execution_count": 11,
     "metadata": {},
     "output_type": "execute_result"
    }
   ],
   "source": [
    "dataframe"
   ]
  },
  {
   "cell_type": "code",
   "execution_count": 15,
   "id": "def17a82",
   "metadata": {},
   "outputs": [],
   "source": [
    "dataframe.drop(dataframe['Unnamed: 0'\n",
    "],inplace=True)"
   ]
  },
  {
   "cell_type": "code",
   "execution_count": 18,
   "id": "b0c86935",
   "metadata": {},
   "outputs": [],
   "source": [
    "dataframe = pd.read_csv('assignment_dataframe')"
   ]
  },
  {
   "cell_type": "code",
   "execution_count": 19,
   "id": "ad46b5e6",
   "metadata": {},
   "outputs": [
    {
     "data": {
      "text/html": [
       "<div>\n",
       "<style scoped>\n",
       "    .dataframe tbody tr th:only-of-type {\n",
       "        vertical-align: middle;\n",
       "    }\n",
       "\n",
       "    .dataframe tbody tr th {\n",
       "        vertical-align: top;\n",
       "    }\n",
       "\n",
       "    .dataframe thead th {\n",
       "        text-align: right;\n",
       "    }\n",
       "</style>\n",
       "<table border=\"1\" class=\"dataframe\">\n",
       "  <thead>\n",
       "    <tr style=\"text-align: right;\">\n",
       "      <th></th>\n",
       "      <th>TITLE</th>\n",
       "      <th>CATEGORY</th>\n",
       "    </tr>\n",
       "  </thead>\n",
       "  <tbody>\n",
       "    <tr>\n",
       "      <th>0</th>\n",
       "      <td>Fed official says weak data caused by weather,...</td>\n",
       "      <td>b</td>\n",
       "    </tr>\n",
       "    <tr>\n",
       "      <th>1</th>\n",
       "      <td>Fed's Charles Plosser sees high bar for change...</td>\n",
       "      <td>b</td>\n",
       "    </tr>\n",
       "    <tr>\n",
       "      <th>2</th>\n",
       "      <td>US open: Stocks fall after Fed official hints ...</td>\n",
       "      <td>b</td>\n",
       "    </tr>\n",
       "    <tr>\n",
       "      <th>3</th>\n",
       "      <td>Fed risks falling 'behind the curve', Charles ...</td>\n",
       "      <td>b</td>\n",
       "    </tr>\n",
       "    <tr>\n",
       "      <th>4</th>\n",
       "      <td>Fed's Plosser: Nasty Weather Has Curbed Job Gr...</td>\n",
       "      <td>b</td>\n",
       "    </tr>\n",
       "    <tr>\n",
       "      <th>...</th>\n",
       "      <td>...</td>\n",
       "      <td>...</td>\n",
       "    </tr>\n",
       "    <tr>\n",
       "      <th>422932</th>\n",
       "      <td>Surgeons to remove 4-year-old's rib to rebuild...</td>\n",
       "      <td>m</td>\n",
       "    </tr>\n",
       "    <tr>\n",
       "      <th>422933</th>\n",
       "      <td>Boy to have surgery on esophagus after battery...</td>\n",
       "      <td>m</td>\n",
       "    </tr>\n",
       "    <tr>\n",
       "      <th>422934</th>\n",
       "      <td>Child who swallowed battery to have reconstruc...</td>\n",
       "      <td>m</td>\n",
       "    </tr>\n",
       "    <tr>\n",
       "      <th>422935</th>\n",
       "      <td>Phoenix boy undergoes surgery to repair throat...</td>\n",
       "      <td>m</td>\n",
       "    </tr>\n",
       "    <tr>\n",
       "      <th>422936</th>\n",
       "      <td>Phoenix boy undergoes surgery to repair throat...</td>\n",
       "      <td>m</td>\n",
       "    </tr>\n",
       "  </tbody>\n",
       "</table>\n",
       "<p>422937 rows × 2 columns</p>\n",
       "</div>"
      ],
      "text/plain": [
       "                                                    TITLE CATEGORY\n",
       "0       Fed official says weak data caused by weather,...        b\n",
       "1       Fed's Charles Plosser sees high bar for change...        b\n",
       "2       US open: Stocks fall after Fed official hints ...        b\n",
       "3       Fed risks falling 'behind the curve', Charles ...        b\n",
       "4       Fed's Plosser: Nasty Weather Has Curbed Job Gr...        b\n",
       "...                                                   ...      ...\n",
       "422932  Surgeons to remove 4-year-old's rib to rebuild...        m\n",
       "422933  Boy to have surgery on esophagus after battery...        m\n",
       "422934  Child who swallowed battery to have reconstruc...        m\n",
       "422935  Phoenix boy undergoes surgery to repair throat...        m\n",
       "422936  Phoenix boy undergoes surgery to repair throat...        m\n",
       "\n",
       "[422937 rows x 2 columns]"
      ]
     },
     "execution_count": 19,
     "metadata": {},
     "output_type": "execute_result"
    }
   ],
   "source": [
    "dataframe"
   ]
  },
  {
   "cell_type": "code",
   "execution_count": 20,
   "id": "48ab9231",
   "metadata": {},
   "outputs": [],
   "source": [
    "dataframe['TITLE'] = hero.clean(dataframe['TITLE'])"
   ]
  },
  {
   "cell_type": "code",
   "execution_count": 21,
   "id": "49926f12",
   "metadata": {},
   "outputs": [
    {
     "data": {
      "text/html": [
       "<div>\n",
       "<style scoped>\n",
       "    .dataframe tbody tr th:only-of-type {\n",
       "        vertical-align: middle;\n",
       "    }\n",
       "\n",
       "    .dataframe tbody tr th {\n",
       "        vertical-align: top;\n",
       "    }\n",
       "\n",
       "    .dataframe thead th {\n",
       "        text-align: right;\n",
       "    }\n",
       "</style>\n",
       "<table border=\"1\" class=\"dataframe\">\n",
       "  <thead>\n",
       "    <tr style=\"text-align: right;\">\n",
       "      <th></th>\n",
       "      <th>TITLE</th>\n",
       "      <th>CATEGORY</th>\n",
       "    </tr>\n",
       "  </thead>\n",
       "  <tbody>\n",
       "    <tr>\n",
       "      <th>0</th>\n",
       "      <td>fed official says weak data caused weather slo...</td>\n",
       "      <td>b</td>\n",
       "    </tr>\n",
       "    <tr>\n",
       "      <th>1</th>\n",
       "      <td>fed charles plosser sees high bar change pace ...</td>\n",
       "      <td>b</td>\n",
       "    </tr>\n",
       "    <tr>\n",
       "      <th>2</th>\n",
       "      <td>us open stocks fall fed official hints acceler...</td>\n",
       "      <td>b</td>\n",
       "    </tr>\n",
       "    <tr>\n",
       "      <th>3</th>\n",
       "      <td>fed risks falling behind curve charles plosser...</td>\n",
       "      <td>b</td>\n",
       "    </tr>\n",
       "    <tr>\n",
       "      <th>4</th>\n",
       "      <td>fed plosser nasty weather curbed job growth</td>\n",
       "      <td>b</td>\n",
       "    </tr>\n",
       "    <tr>\n",
       "      <th>...</th>\n",
       "      <td>...</td>\n",
       "      <td>...</td>\n",
       "    </tr>\n",
       "    <tr>\n",
       "      <th>422932</th>\n",
       "      <td>surgeons remove year old rib rebuild damaged t...</td>\n",
       "      <td>m</td>\n",
       "    </tr>\n",
       "    <tr>\n",
       "      <th>422933</th>\n",
       "      <td>boy surgery esophagus battery burns hole throat</td>\n",
       "      <td>m</td>\n",
       "    </tr>\n",
       "    <tr>\n",
       "      <th>422934</th>\n",
       "      <td>child swallowed battery reconstructive surgery...</td>\n",
       "      <td>m</td>\n",
       "    </tr>\n",
       "    <tr>\n",
       "      <th>422935</th>\n",
       "      <td>phoenix boy undergoes surgery repair throat da...</td>\n",
       "      <td>m</td>\n",
       "    </tr>\n",
       "    <tr>\n",
       "      <th>422936</th>\n",
       "      <td>phoenix boy undergoes surgery repair throat da...</td>\n",
       "      <td>m</td>\n",
       "    </tr>\n",
       "  </tbody>\n",
       "</table>\n",
       "<p>422937 rows × 2 columns</p>\n",
       "</div>"
      ],
      "text/plain": [
       "                                                    TITLE CATEGORY\n",
       "0       fed official says weak data caused weather slo...        b\n",
       "1       fed charles plosser sees high bar change pace ...        b\n",
       "2       us open stocks fall fed official hints acceler...        b\n",
       "3       fed risks falling behind curve charles plosser...        b\n",
       "4             fed plosser nasty weather curbed job growth        b\n",
       "...                                                   ...      ...\n",
       "422932  surgeons remove year old rib rebuild damaged t...        m\n",
       "422933    boy surgery esophagus battery burns hole throat        m\n",
       "422934  child swallowed battery reconstructive surgery...        m\n",
       "422935  phoenix boy undergoes surgery repair throat da...        m\n",
       "422936  phoenix boy undergoes surgery repair throat da...        m\n",
       "\n",
       "[422937 rows x 2 columns]"
      ]
     },
     "execution_count": 21,
     "metadata": {},
     "output_type": "execute_result"
    }
   ],
   "source": [
    "dataframe"
   ]
  },
  {
   "cell_type": "code",
   "execution_count": 22,
   "id": "07dd9e7d",
   "metadata": {},
   "outputs": [
    {
     "data": {
      "text/plain": [
       "0    fed official says weak data caused weather slo...\n",
       "Name: TITLE, dtype: object"
      ]
     },
     "execution_count": 22,
     "metadata": {},
     "output_type": "execute_result"
    }
   ],
   "source": [
    "dataframe['TITLE'].head(1)"
   ]
  },
  {
   "cell_type": "code",
   "execution_count": 23,
   "id": "27ab9665",
   "metadata": {},
   "outputs": [
    {
     "data": {
      "text/plain": [
       "TITLE       object\n",
       "CATEGORY    object\n",
       "dtype: object"
      ]
     },
     "execution_count": 23,
     "metadata": {},
     "output_type": "execute_result"
    }
   ],
   "source": [
    "dataframe.dtypes"
   ]
  },
  {
   "cell_type": "code",
   "execution_count": 25,
   "id": "b9ee4284",
   "metadata": {},
   "outputs": [
    {
     "data": {
      "text/plain": [
       "<bound method Series.unique of 0         fed official says weak data caused weather slo...\n",
       "1         fed charles plosser sees high bar change pace ...\n",
       "2         us open stocks fall fed official hints acceler...\n",
       "3         fed risks falling behind curve charles plosser...\n",
       "4               fed plosser nasty weather curbed job growth\n",
       "                                ...                        \n",
       "422932    surgeons remove year old rib rebuild damaged t...\n",
       "422933      boy surgery esophagus battery burns hole throat\n",
       "422934    child swallowed battery reconstructive surgery...\n",
       "422935    phoenix boy undergoes surgery repair throat da...\n",
       "422936    phoenix boy undergoes surgery repair throat da...\n",
       "Name: TITLE, Length: 422937, dtype: object>"
      ]
     },
     "execution_count": 25,
     "metadata": {},
     "output_type": "execute_result"
    }
   ],
   "source": [
    "dataframe['TITLE'].unique"
   ]
  },
  {
   "cell_type": "markdown",
   "id": "454bde95",
   "metadata": {},
   "source": [
    "After we clean the data we need to unique it to clean duplicate data"
   ]
  },
  {
   "cell_type": "code",
   "execution_count": 26,
   "id": "7cb4c502",
   "metadata": {},
   "outputs": [
    {
     "data": {
      "text/plain": [
       "array(['fed official says weak data caused weather slow taper',\n",
       "       'fed charles plosser sees high bar change pace tapering',\n",
       "       'us open stocks fall fed official hints accelerated tapering', ...,\n",
       "       'child swallowed battery reconstructive surgery cincinnati',\n",
       "       'phoenix boy undergoes surgery repair throat damage wfsb connecticut',\n",
       "       'phoenix boy undergoes surgery repair throat damage cbs springfield'],\n",
       "      dtype=object)"
      ]
     },
     "execution_count": 26,
     "metadata": {},
     "output_type": "execute_result"
    }
   ],
   "source": [
    "pd.unique(dataframe['TITLE'])"
   ]
  },
  {
   "cell_type": "code",
   "execution_count": 27,
   "id": "244e773c",
   "metadata": {},
   "outputs": [],
   "source": [
    "unique_title = pd.unique(dataframe['TITLE'])"
   ]
  },
  {
   "cell_type": "code",
   "execution_count": 28,
   "id": "e2bc8ed7",
   "metadata": {},
   "outputs": [
    {
     "data": {
      "text/plain": [
       "394409"
      ]
     },
     "execution_count": 28,
     "metadata": {},
     "output_type": "execute_result"
    }
   ],
   "source": [
    "unique_title.size"
   ]
  },
  {
   "cell_type": "code",
   "execution_count": 29,
   "id": "bc5876f3",
   "metadata": {},
   "outputs": [
    {
     "data": {
      "text/plain": [
       "'fed charles plosser sees high bar change pace tapering'"
      ]
     },
     "execution_count": 29,
     "metadata": {},
     "output_type": "execute_result"
    }
   ],
   "source": [
    "unique_title[1]"
   ]
  },
  {
   "cell_type": "code",
   "execution_count": null,
   "id": "3c9e816b",
   "metadata": {},
   "outputs": [],
   "source": []
  }
 ],
 "metadata": {
  "kernelspec": {
   "display_name": "Python 3 (ipykernel)",
   "language": "python",
   "name": "python3"
  },
  "language_info": {
   "codemirror_mode": {
    "name": "ipython",
    "version": 3
   },
   "file_extension": ".py",
   "mimetype": "text/x-python",
   "name": "python",
   "nbconvert_exporter": "python",
   "pygments_lexer": "ipython3",
   "version": "3.9.13"
  }
 },
 "nbformat": 4,
 "nbformat_minor": 5
}
